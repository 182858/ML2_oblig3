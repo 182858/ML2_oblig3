{
 "cells": [
  {
   "cell_type": "code",
   "execution_count": 1,
   "id": "5842ca71",
   "metadata": {},
   "outputs": [],
   "source": [
    "from pycaret.classification import load_model, predict_model\n",
    "import pandas as pd\n",
    "import numpy as np\n",
    "import streamlit as st\n",
    "from PIL import Image\n",
    "import os"
   ]
  },
  {
   "cell_type": "code",
   "execution_count": 14,
   "id": "ddab4ae8",
   "metadata": {},
   "outputs": [],
   "source": [
    "class StreamlitApp:\n",
    "\n",
    "    def _init_(self):\n",
    "        self.model = load_model('rfr_model2')\n",
    "        self.save_fn = 'path.csv'\n",
    "        \n",
    "    def predict(self, input_data):\n",
    "        return predict_model(self.model, data = input_data)\n",
    "    \n",
    "    def store_predictions(self, output_df):\n",
    "        if os.path.exists(self.save_fn):\n",
    "            save_df = pd.read_csv(self.save_fn)\n",
    "            save_df = save_df.append(output_df, ignore_index=True)\n",
    "            save_df.to_csv(self.save_fn, index=False)\n",
    "        \n",
    "        else:\n",
    "            output_df.to_csv(self.save_fn, index=False)\n",
    "            \n",
    "    def run(self):\n",
    "        \n",
    "        add_selectbox = st.sidebar.selectbox('How would you like to predict?', ('Online', 'Batch'))\n",
    "        st.sidebar.info('This app is created for predicting house prices' )\n",
    "        st.sidebar.success('DAT158')\n",
    "        st.title('House price prediction')\n",
    "        \n",
    "        if add_selectbox == 'Online':\n",
    "            lotfrontage = st.number_input('LotFrontage', min_value=0, max_value=320, value=70)\n",
    "            monthsold = st.number_input('MoSold', min_value=1, max_value=12, value=6)\n",
    "            buildyear = st.number_input('YearBuilt', min_value=0, max_value=2021, value=1950)\n",
    "            remodelyear = st.number_input('YearRemodAdd', min_value=1950, max_value=2010, value=2000)\n",
    "            bedroomsAboveground = st.number_input('BedroomAbvGr', min_value=0, max_value=8, value=3)\n",
    "            totalBasementArea = st.number_input('TotalBsmtSF', min_value=0, max_value=6000, value=1000)\n",
    "            \n",
    "\n",
    "            \n",
    "            \n",
    "            \n",
    "            output=''\n",
    "            input_dict = {'LotFrontage':lotfrontage, 'MoSold':monthsold, 'YearBuilt':buildyear, 'YearRemodAdd':remodelyear, \n",
    "                         'BedrommAbvGr':bedroomsAboveground, 'TotalBsmtSF':totalBasementArea}\n",
    "            input_df = pd.DataFrame(input_dict, index=[0])\n",
    "            \n",
    "            if st.button('Predict'):\n",
    "                output = self.predict(input_df)\n",
    "                self.store_prediction(output)\n",
    "                \n",
    "                output = 'House price' if output['Label'][0] == 1 else 'Normal'\n",
    "                \n",
    "            st.success('Predicted output: {}'.format(output))\n",
    "            \n",
    "        if add_selectbox == 'Batch':\n",
    "            fn = st.file_uploader(\"Upload csv file for prediction\")\n",
    "            if fn is not None:\n",
    "                input_df = pd.read_csv(fn)\n",
    "                predictions = self.predict(input_df)\n",
    "                st.write(predictions)\n",
    "                \n",
    "\n",
    "sa = StreamlitApp()\n",
    "sa.run()"
   ]
  },
  {
   "cell_type": "code",
   "execution_count": null,
   "id": "7ca83873",
   "metadata": {},
   "outputs": [],
   "source": []
  }
 ],
 "metadata": {
  "kernelspec": {
   "display_name": "Python 3 (ipykernel)",
   "language": "python",
   "name": "python3"
  },
  "language_info": {
   "codemirror_mode": {
    "name": "ipython",
    "version": 3
   },
   "file_extension": ".py",
   "mimetype": "text/x-python",
   "name": "python",
   "nbconvert_exporter": "python",
   "pygments_lexer": "ipython3",
   "version": "3.8.12"
  }
 },
 "nbformat": 4,
 "nbformat_minor": 5
}
